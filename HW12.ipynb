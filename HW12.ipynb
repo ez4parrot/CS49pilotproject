{
  "cells": [
    {
      "cell_type": "markdown",
      "metadata": {
        "id": "view-in-github",
        "colab_type": "text"
      },
      "source": [
        "<a href=\"https://colab.research.google.com/github/ez4parrot/CS49pilotproject/blob/main/HW12.ipynb\" target=\"_parent\"><img src=\"https://colab.research.google.com/assets/colab-badge.svg\" alt=\"Open In Colab\"/></a>"
      ]
    },
    {
      "cell_type": "markdown",
      "metadata": {
        "id": "1JOeBAIf7HVo"
      },
      "source": [
        "# HW12\n",
        "Names: Boris Johnson\n",
        "\n",
        "Member 1: Obamna\n",
        "\n",
        "Due: July 26th, 5:30pm"
      ]
    },
    {
      "cell_type": "code",
      "execution_count": null,
      "metadata": {
        "colab": {
          "base_uri": "https://localhost:8080/"
        },
        "id": "_wDQDZUxpFWY",
        "outputId": "dd3c3f18-8964-482c-e1dd-195d8a47a67b"
      },
      "outputs": [
        {
          "output_type": "stream",
          "name": "stderr",
          "text": [
            "Installing package into ‘/usr/local/lib/R/site-library’\n",
            "(as ‘lib’ is unspecified)\n",
            "\n",
            "also installing the dependencies ‘Rcpp’, ‘RcppTOML’, ‘here’, ‘png’, ‘config’, ‘tfautograph’, ‘reticulate’, ‘tensorflow’, ‘tfruns’, ‘zeallot’\n",
            "\n",
            "\n"
          ]
        }
      ],
      "source": [
        "install.packages(\"keras\")"
      ]
    },
    {
      "cell_type": "code",
      "execution_count": null,
      "metadata": {
        "id": "PKA8Z-Juh_iE"
      },
      "outputs": [],
      "source": []
    },
    {
      "cell_type": "markdown",
      "metadata": {
        "id": "pq_5-bcvyowk"
      },
      "source": [
        "# Case Study: Yelp Textmining NN\n",
        "\n",
        "Using the dataset of the 20,000 yelp entries from the Day 11 homework, we will\n",
        "build a simple neural network that predicts if a review will get a high or low\n",
        "rating.\n",
        "\n",
        "## Data Preparation\n",
        "\n",
        "Please import in the data2.csv file provided and read it into a dataframe.\n",
        "Use that data for the remainder of the homework."
      ]
    },
    {
      "cell_type": "code",
      "execution_count": null,
      "metadata": {
        "id": "7HkIS6O-ufoH"
      },
      "outputs": [],
      "source": []
    },
    {
      "cell_type": "markdown",
      "metadata": {
        "id": "JZ4nePPDyu2q"
      },
      "source": [
        "### Generate training and testing datasets\n",
        "**Reserve 16000 entries for training data, and the rest for testing**\n",
        "Helpful tips:\n",
        " - rating, the response variable of data2 is column 1312.\n",
        " - Set seed to 1."
      ]
    },
    {
      "cell_type": "code",
      "execution_count": null,
      "metadata": {
        "id": "RE05GmNcukrA"
      },
      "outputs": [],
      "source": []
    },
    {
      "cell_type": "markdown",
      "metadata": {
        "id": "-Q0-HCX3zIVE"
      },
      "source": [
        "### Reserve 4 validation entries\n",
        "Typically, we could have an entire set of data for validations, but let's just\n",
        "extract the first 4 elements from our Testing data for use of prediction later on."
      ]
    },
    {
      "cell_type": "code",
      "execution_count": null,
      "metadata": {
        "id": "UJHLxxaxuqvM"
      },
      "outputs": [],
      "source": []
    },
    {
      "cell_type": "markdown",
      "metadata": {
        "id": "LP382Pq6zL8l"
      },
      "source": [
        "## Building the NN\n",
        "### **Define a Model with the following Architecture:**\n",
        "  + Two layers with 16 and 8 neurons in each layer\n",
        "  + Activation function is `relu`\n",
        "  + Output layer is `softmax`\n",
        "  + Each layer is dense"
      ]
    },
    {
      "cell_type": "code",
      "execution_count": null,
      "metadata": {
        "id": "zCz1adNVurTj"
      },
      "outputs": [],
      "source": []
    },
    {
      "cell_type": "markdown",
      "metadata": {
        "id": "7I23BZ4azTPv"
      },
      "source": [
        "### **Compile the Model**"
      ]
    },
    {
      "cell_type": "code",
      "execution_count": null,
      "metadata": {
        "id": "vAixf987uv4U"
      },
      "outputs": [],
      "source": []
    },
    {
      "cell_type": "markdown",
      "metadata": {
        "id": "ke4FPgAozUVF"
      },
      "source": [
        "### **Train the Model with the following parameters**\n",
        "batch_size = 512\n",
        "\n",
        "validation_split = .15\n",
        "\n",
        "Epoch = 20"
      ]
    },
    {
      "cell_type": "code",
      "execution_count": null,
      "metadata": {
        "id": "sGSPCaV5uyQ7"
      },
      "outputs": [],
      "source": []
    },
    {
      "cell_type": "markdown",
      "metadata": {
        "id": "b7XxXEJQ5Mr3"
      },
      "source": [
        "### **Assessing Performance**\n",
        "What is the accuracy of this model?\n",
        "\n",
        "What is its misclassification error?"
      ]
    },
    {
      "cell_type": "code",
      "execution_count": null,
      "metadata": {
        "id": "PgbXMf4-5NoU"
      },
      "outputs": [],
      "source": []
    },
    {
      "cell_type": "markdown",
      "metadata": {
        "id": "2DYAPFQrzboe"
      },
      "source": [
        "## Prediction  \n",
        "\n",
        "Predict the first 4 reviews in the validation data and display labels based on\n",
        "majority vote (use argMax) classifications."
      ]
    },
    {
      "cell_type": "code",
      "execution_count": null,
      "metadata": {
        "id": "vLUG4Z4Zu0vS"
      },
      "outputs": [],
      "source": []
    },
    {
      "cell_type": "markdown",
      "metadata": {
        "id": "l2K1vWbjORtG"
      },
      "source": [
        "## Validation error (optional)\n",
        "\n",
        "Report the validation error based on your model.\n"
      ]
    },
    {
      "cell_type": "code",
      "execution_count": null,
      "metadata": {
        "id": "V-wfASsYOZmv"
      },
      "outputs": [],
      "source": []
    }
  ],
  "metadata": {
    "colab": {
      "provenance": [],
      "include_colab_link": true
    },
    "kernelspec": {
      "display_name": "R",
      "name": "ir"
    },
    "language_info": {
      "name": "R"
    }
  },
  "nbformat": 4,
  "nbformat_minor": 0
}